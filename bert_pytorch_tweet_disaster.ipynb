{
  "nbformat": 4,
  "nbformat_minor": 0,
  "metadata": {
    "colab": {
      "name": "bert_pytorch_tweet disa_pub.ipynb",
      "provenance": [],
      "collapsed_sections": [],
      "toc_visible": true,
      "mount_file_id": "1pVnG-E5GKNZFbZs2yIs_NaJ39Z_3kSk-",
      "authorship_tag": "ABX9TyNQrVet0NH6onHIYwPgI2Az"
    },
    "kernelspec": {
      "name": "python3",
      "display_name": "Python 3"
    },
    "accelerator": "GPU",
    "widgets": {
      "application/vnd.jupyter.widget-state+json": {
        "026d756affa449f295ba8435ebd74b25": {
          "model_module": "@jupyter-widgets/controls",
          "model_name": "HBoxModel",
          "state": {
            "_view_name": "HBoxView",
            "_dom_classes": [],
            "_model_name": "HBoxModel",
            "_view_module": "@jupyter-widgets/controls",
            "_model_module_version": "1.5.0",
            "_view_count": null,
            "_view_module_version": "1.5.0",
            "box_style": "",
            "layout": "IPY_MODEL_c768d10a82c64309b90b10f9cf273c58",
            "_model_module": "@jupyter-widgets/controls",
            "children": [
              "IPY_MODEL_f37fa1bd3ad54c72a03208af37d0eb7a",
              "IPY_MODEL_d9f971e0ba274e7b9d7e6994db9cc061"
            ]
          }
        },
        "c768d10a82c64309b90b10f9cf273c58": {
          "model_module": "@jupyter-widgets/base",
          "model_name": "LayoutModel",
          "state": {
            "_view_name": "LayoutView",
            "grid_template_rows": null,
            "right": null,
            "justify_content": null,
            "_view_module": "@jupyter-widgets/base",
            "overflow": null,
            "_model_module_version": "1.2.0",
            "_view_count": null,
            "flex_flow": null,
            "width": null,
            "min_width": null,
            "border": null,
            "align_items": null,
            "bottom": null,
            "_model_module": "@jupyter-widgets/base",
            "top": null,
            "grid_column": null,
            "overflow_y": null,
            "overflow_x": null,
            "grid_auto_flow": null,
            "grid_area": null,
            "grid_template_columns": null,
            "flex": null,
            "_model_name": "LayoutModel",
            "justify_items": null,
            "grid_row": null,
            "max_height": null,
            "align_content": null,
            "visibility": null,
            "align_self": null,
            "height": null,
            "min_height": null,
            "padding": null,
            "grid_auto_rows": null,
            "grid_gap": null,
            "max_width": null,
            "order": null,
            "_view_module_version": "1.2.0",
            "grid_template_areas": null,
            "object_position": null,
            "object_fit": null,
            "grid_auto_columns": null,
            "margin": null,
            "display": null,
            "left": null
          }
        },
        "f37fa1bd3ad54c72a03208af37d0eb7a": {
          "model_module": "@jupyter-widgets/controls",
          "model_name": "FloatProgressModel",
          "state": {
            "_view_name": "ProgressView",
            "style": "IPY_MODEL_5135f408475e495e81c787cf2419c893",
            "_dom_classes": [],
            "description": "Downloading: 100%",
            "_model_name": "FloatProgressModel",
            "bar_style": "success",
            "max": 231508,
            "_view_module": "@jupyter-widgets/controls",
            "_model_module_version": "1.5.0",
            "value": 231508,
            "_view_count": null,
            "_view_module_version": "1.5.0",
            "orientation": "horizontal",
            "min": 0,
            "description_tooltip": null,
            "_model_module": "@jupyter-widgets/controls",
            "layout": "IPY_MODEL_ba2dd5dab8874c579958e397a37b3ac9"
          }
        },
        "d9f971e0ba274e7b9d7e6994db9cc061": {
          "model_module": "@jupyter-widgets/controls",
          "model_name": "HTMLModel",
          "state": {
            "_view_name": "HTMLView",
            "style": "IPY_MODEL_3120fb9e098641afb2c2367d1b7a70bb",
            "_dom_classes": [],
            "description": "",
            "_model_name": "HTMLModel",
            "placeholder": "​",
            "_view_module": "@jupyter-widgets/controls",
            "_model_module_version": "1.5.0",
            "value": " 232k/232k [00:00&lt;00:00, 638kB/s]",
            "_view_count": null,
            "_view_module_version": "1.5.0",
            "description_tooltip": null,
            "_model_module": "@jupyter-widgets/controls",
            "layout": "IPY_MODEL_ae2287cb2f37467fbbaaba29e35ca923"
          }
        },
        "5135f408475e495e81c787cf2419c893": {
          "model_module": "@jupyter-widgets/controls",
          "model_name": "ProgressStyleModel",
          "state": {
            "_view_name": "StyleView",
            "_model_name": "ProgressStyleModel",
            "description_width": "initial",
            "_view_module": "@jupyter-widgets/base",
            "_model_module_version": "1.5.0",
            "_view_count": null,
            "_view_module_version": "1.2.0",
            "bar_color": null,
            "_model_module": "@jupyter-widgets/controls"
          }
        },
        "ba2dd5dab8874c579958e397a37b3ac9": {
          "model_module": "@jupyter-widgets/base",
          "model_name": "LayoutModel",
          "state": {
            "_view_name": "LayoutView",
            "grid_template_rows": null,
            "right": null,
            "justify_content": null,
            "_view_module": "@jupyter-widgets/base",
            "overflow": null,
            "_model_module_version": "1.2.0",
            "_view_count": null,
            "flex_flow": null,
            "width": null,
            "min_width": null,
            "border": null,
            "align_items": null,
            "bottom": null,
            "_model_module": "@jupyter-widgets/base",
            "top": null,
            "grid_column": null,
            "overflow_y": null,
            "overflow_x": null,
            "grid_auto_flow": null,
            "grid_area": null,
            "grid_template_columns": null,
            "flex": null,
            "_model_name": "LayoutModel",
            "justify_items": null,
            "grid_row": null,
            "max_height": null,
            "align_content": null,
            "visibility": null,
            "align_self": null,
            "height": null,
            "min_height": null,
            "padding": null,
            "grid_auto_rows": null,
            "grid_gap": null,
            "max_width": null,
            "order": null,
            "_view_module_version": "1.2.0",
            "grid_template_areas": null,
            "object_position": null,
            "object_fit": null,
            "grid_auto_columns": null,
            "margin": null,
            "display": null,
            "left": null
          }
        },
        "3120fb9e098641afb2c2367d1b7a70bb": {
          "model_module": "@jupyter-widgets/controls",
          "model_name": "DescriptionStyleModel",
          "state": {
            "_view_name": "StyleView",
            "_model_name": "DescriptionStyleModel",
            "description_width": "",
            "_view_module": "@jupyter-widgets/base",
            "_model_module_version": "1.5.0",
            "_view_count": null,
            "_view_module_version": "1.2.0",
            "_model_module": "@jupyter-widgets/controls"
          }
        },
        "ae2287cb2f37467fbbaaba29e35ca923": {
          "model_module": "@jupyter-widgets/base",
          "model_name": "LayoutModel",
          "state": {
            "_view_name": "LayoutView",
            "grid_template_rows": null,
            "right": null,
            "justify_content": null,
            "_view_module": "@jupyter-widgets/base",
            "overflow": null,
            "_model_module_version": "1.2.0",
            "_view_count": null,
            "flex_flow": null,
            "width": null,
            "min_width": null,
            "border": null,
            "align_items": null,
            "bottom": null,
            "_model_module": "@jupyter-widgets/base",
            "top": null,
            "grid_column": null,
            "overflow_y": null,
            "overflow_x": null,
            "grid_auto_flow": null,
            "grid_area": null,
            "grid_template_columns": null,
            "flex": null,
            "_model_name": "LayoutModel",
            "justify_items": null,
            "grid_row": null,
            "max_height": null,
            "align_content": null,
            "visibility": null,
            "align_self": null,
            "height": null,
            "min_height": null,
            "padding": null,
            "grid_auto_rows": null,
            "grid_gap": null,
            "max_width": null,
            "order": null,
            "_view_module_version": "1.2.0",
            "grid_template_areas": null,
            "object_position": null,
            "object_fit": null,
            "grid_auto_columns": null,
            "margin": null,
            "display": null,
            "left": null
          }
        },
        "2a33f1f8a801400592f1538d1360f202": {
          "model_module": "@jupyter-widgets/controls",
          "model_name": "HBoxModel",
          "state": {
            "_view_name": "HBoxView",
            "_dom_classes": [],
            "_model_name": "HBoxModel",
            "_view_module": "@jupyter-widgets/controls",
            "_model_module_version": "1.5.0",
            "_view_count": null,
            "_view_module_version": "1.5.0",
            "box_style": "",
            "layout": "IPY_MODEL_8644dbab5376477da002d9ca463bc508",
            "_model_module": "@jupyter-widgets/controls",
            "children": [
              "IPY_MODEL_aedd8d288eec456b8f017432afe8d13c",
              "IPY_MODEL_202c1edfc31f4e5b9938bbb385381b67"
            ]
          }
        },
        "8644dbab5376477da002d9ca463bc508": {
          "model_module": "@jupyter-widgets/base",
          "model_name": "LayoutModel",
          "state": {
            "_view_name": "LayoutView",
            "grid_template_rows": null,
            "right": null,
            "justify_content": null,
            "_view_module": "@jupyter-widgets/base",
            "overflow": null,
            "_model_module_version": "1.2.0",
            "_view_count": null,
            "flex_flow": null,
            "width": null,
            "min_width": null,
            "border": null,
            "align_items": null,
            "bottom": null,
            "_model_module": "@jupyter-widgets/base",
            "top": null,
            "grid_column": null,
            "overflow_y": null,
            "overflow_x": null,
            "grid_auto_flow": null,
            "grid_area": null,
            "grid_template_columns": null,
            "flex": null,
            "_model_name": "LayoutModel",
            "justify_items": null,
            "grid_row": null,
            "max_height": null,
            "align_content": null,
            "visibility": null,
            "align_self": null,
            "height": null,
            "min_height": null,
            "padding": null,
            "grid_auto_rows": null,
            "grid_gap": null,
            "max_width": null,
            "order": null,
            "_view_module_version": "1.2.0",
            "grid_template_areas": null,
            "object_position": null,
            "object_fit": null,
            "grid_auto_columns": null,
            "margin": null,
            "display": null,
            "left": null
          }
        },
        "aedd8d288eec456b8f017432afe8d13c": {
          "model_module": "@jupyter-widgets/controls",
          "model_name": "FloatProgressModel",
          "state": {
            "_view_name": "ProgressView",
            "style": "IPY_MODEL_4e56329822e04b538c6f7fbe79a2fb12",
            "_dom_classes": [],
            "description": "Downloading: 100%",
            "_model_name": "FloatProgressModel",
            "bar_style": "success",
            "max": 433,
            "_view_module": "@jupyter-widgets/controls",
            "_model_module_version": "1.5.0",
            "value": 433,
            "_view_count": null,
            "_view_module_version": "1.5.0",
            "orientation": "horizontal",
            "min": 0,
            "description_tooltip": null,
            "_model_module": "@jupyter-widgets/controls",
            "layout": "IPY_MODEL_f1b89a199f144f2aa71dc875c2f9dcd6"
          }
        },
        "202c1edfc31f4e5b9938bbb385381b67": {
          "model_module": "@jupyter-widgets/controls",
          "model_name": "HTMLModel",
          "state": {
            "_view_name": "HTMLView",
            "style": "IPY_MODEL_624667dd5e074e169f9f0cf9d53a0cac",
            "_dom_classes": [],
            "description": "",
            "_model_name": "HTMLModel",
            "placeholder": "​",
            "_view_module": "@jupyter-widgets/controls",
            "_model_module_version": "1.5.0",
            "value": " 433/433 [01:24&lt;00:00, 5.11B/s]",
            "_view_count": null,
            "_view_module_version": "1.5.0",
            "description_tooltip": null,
            "_model_module": "@jupyter-widgets/controls",
            "layout": "IPY_MODEL_cce5dbcef0fa457ba2edd5b265f75bc9"
          }
        },
        "4e56329822e04b538c6f7fbe79a2fb12": {
          "model_module": "@jupyter-widgets/controls",
          "model_name": "ProgressStyleModel",
          "state": {
            "_view_name": "StyleView",
            "_model_name": "ProgressStyleModel",
            "description_width": "initial",
            "_view_module": "@jupyter-widgets/base",
            "_model_module_version": "1.5.0",
            "_view_count": null,
            "_view_module_version": "1.2.0",
            "bar_color": null,
            "_model_module": "@jupyter-widgets/controls"
          }
        },
        "f1b89a199f144f2aa71dc875c2f9dcd6": {
          "model_module": "@jupyter-widgets/base",
          "model_name": "LayoutModel",
          "state": {
            "_view_name": "LayoutView",
            "grid_template_rows": null,
            "right": null,
            "justify_content": null,
            "_view_module": "@jupyter-widgets/base",
            "overflow": null,
            "_model_module_version": "1.2.0",
            "_view_count": null,
            "flex_flow": null,
            "width": null,
            "min_width": null,
            "border": null,
            "align_items": null,
            "bottom": null,
            "_model_module": "@jupyter-widgets/base",
            "top": null,
            "grid_column": null,
            "overflow_y": null,
            "overflow_x": null,
            "grid_auto_flow": null,
            "grid_area": null,
            "grid_template_columns": null,
            "flex": null,
            "_model_name": "LayoutModel",
            "justify_items": null,
            "grid_row": null,
            "max_height": null,
            "align_content": null,
            "visibility": null,
            "align_self": null,
            "height": null,
            "min_height": null,
            "padding": null,
            "grid_auto_rows": null,
            "grid_gap": null,
            "max_width": null,
            "order": null,
            "_view_module_version": "1.2.0",
            "grid_template_areas": null,
            "object_position": null,
            "object_fit": null,
            "grid_auto_columns": null,
            "margin": null,
            "display": null,
            "left": null
          }
        },
        "624667dd5e074e169f9f0cf9d53a0cac": {
          "model_module": "@jupyter-widgets/controls",
          "model_name": "DescriptionStyleModel",
          "state": {
            "_view_name": "StyleView",
            "_model_name": "DescriptionStyleModel",
            "description_width": "",
            "_view_module": "@jupyter-widgets/base",
            "_model_module_version": "1.5.0",
            "_view_count": null,
            "_view_module_version": "1.2.0",
            "_model_module": "@jupyter-widgets/controls"
          }
        },
        "cce5dbcef0fa457ba2edd5b265f75bc9": {
          "model_module": "@jupyter-widgets/base",
          "model_name": "LayoutModel",
          "state": {
            "_view_name": "LayoutView",
            "grid_template_rows": null,
            "right": null,
            "justify_content": null,
            "_view_module": "@jupyter-widgets/base",
            "overflow": null,
            "_model_module_version": "1.2.0",
            "_view_count": null,
            "flex_flow": null,
            "width": null,
            "min_width": null,
            "border": null,
            "align_items": null,
            "bottom": null,
            "_model_module": "@jupyter-widgets/base",
            "top": null,
            "grid_column": null,
            "overflow_y": null,
            "overflow_x": null,
            "grid_auto_flow": null,
            "grid_area": null,
            "grid_template_columns": null,
            "flex": null,
            "_model_name": "LayoutModel",
            "justify_items": null,
            "grid_row": null,
            "max_height": null,
            "align_content": null,
            "visibility": null,
            "align_self": null,
            "height": null,
            "min_height": null,
            "padding": null,
            "grid_auto_rows": null,
            "grid_gap": null,
            "max_width": null,
            "order": null,
            "_view_module_version": "1.2.0",
            "grid_template_areas": null,
            "object_position": null,
            "object_fit": null,
            "grid_auto_columns": null,
            "margin": null,
            "display": null,
            "left": null
          }
        },
        "10bcf17f9f55469d938a4eb71dc7cae6": {
          "model_module": "@jupyter-widgets/controls",
          "model_name": "HBoxModel",
          "state": {
            "_view_name": "HBoxView",
            "_dom_classes": [],
            "_model_name": "HBoxModel",
            "_view_module": "@jupyter-widgets/controls",
            "_model_module_version": "1.5.0",
            "_view_count": null,
            "_view_module_version": "1.5.0",
            "box_style": "",
            "layout": "IPY_MODEL_66745f8506534a1cb468609bb059c945",
            "_model_module": "@jupyter-widgets/controls",
            "children": [
              "IPY_MODEL_344b618598b34b449ad400e21db24208",
              "IPY_MODEL_c8c7a44307914f47b1da8da3edfa7362"
            ]
          }
        },
        "66745f8506534a1cb468609bb059c945": {
          "model_module": "@jupyter-widgets/base",
          "model_name": "LayoutModel",
          "state": {
            "_view_name": "LayoutView",
            "grid_template_rows": null,
            "right": null,
            "justify_content": null,
            "_view_module": "@jupyter-widgets/base",
            "overflow": null,
            "_model_module_version": "1.2.0",
            "_view_count": null,
            "flex_flow": null,
            "width": null,
            "min_width": null,
            "border": null,
            "align_items": null,
            "bottom": null,
            "_model_module": "@jupyter-widgets/base",
            "top": null,
            "grid_column": null,
            "overflow_y": null,
            "overflow_x": null,
            "grid_auto_flow": null,
            "grid_area": null,
            "grid_template_columns": null,
            "flex": null,
            "_model_name": "LayoutModel",
            "justify_items": null,
            "grid_row": null,
            "max_height": null,
            "align_content": null,
            "visibility": null,
            "align_self": null,
            "height": null,
            "min_height": null,
            "padding": null,
            "grid_auto_rows": null,
            "grid_gap": null,
            "max_width": null,
            "order": null,
            "_view_module_version": "1.2.0",
            "grid_template_areas": null,
            "object_position": null,
            "object_fit": null,
            "grid_auto_columns": null,
            "margin": null,
            "display": null,
            "left": null
          }
        },
        "344b618598b34b449ad400e21db24208": {
          "model_module": "@jupyter-widgets/controls",
          "model_name": "FloatProgressModel",
          "state": {
            "_view_name": "ProgressView",
            "style": "IPY_MODEL_043d05bea9044969aabb8dece3a3bc26",
            "_dom_classes": [],
            "description": "Downloading: 100%",
            "_model_name": "FloatProgressModel",
            "bar_style": "success",
            "max": 440473133,
            "_view_module": "@jupyter-widgets/controls",
            "_model_module_version": "1.5.0",
            "value": 440473133,
            "_view_count": null,
            "_view_module_version": "1.5.0",
            "orientation": "horizontal",
            "min": 0,
            "description_tooltip": null,
            "_model_module": "@jupyter-widgets/controls",
            "layout": "IPY_MODEL_d79cef574ad7496494ec1a3691dc4bca"
          }
        },
        "c8c7a44307914f47b1da8da3edfa7362": {
          "model_module": "@jupyter-widgets/controls",
          "model_name": "HTMLModel",
          "state": {
            "_view_name": "HTMLView",
            "style": "IPY_MODEL_40ad36fadd58430c904dfd55f4fdcb76",
            "_dom_classes": [],
            "description": "",
            "_model_name": "HTMLModel",
            "placeholder": "​",
            "_view_module": "@jupyter-widgets/controls",
            "_model_module_version": "1.5.0",
            "value": " 440M/440M [00:09&lt;00:00, 45.6MB/s]",
            "_view_count": null,
            "_view_module_version": "1.5.0",
            "description_tooltip": null,
            "_model_module": "@jupyter-widgets/controls",
            "layout": "IPY_MODEL_c4e0781c6be4434e896ee311d0dc05e0"
          }
        },
        "043d05bea9044969aabb8dece3a3bc26": {
          "model_module": "@jupyter-widgets/controls",
          "model_name": "ProgressStyleModel",
          "state": {
            "_view_name": "StyleView",
            "_model_name": "ProgressStyleModel",
            "description_width": "initial",
            "_view_module": "@jupyter-widgets/base",
            "_model_module_version": "1.5.0",
            "_view_count": null,
            "_view_module_version": "1.2.0",
            "bar_color": null,
            "_model_module": "@jupyter-widgets/controls"
          }
        },
        "d79cef574ad7496494ec1a3691dc4bca": {
          "model_module": "@jupyter-widgets/base",
          "model_name": "LayoutModel",
          "state": {
            "_view_name": "LayoutView",
            "grid_template_rows": null,
            "right": null,
            "justify_content": null,
            "_view_module": "@jupyter-widgets/base",
            "overflow": null,
            "_model_module_version": "1.2.0",
            "_view_count": null,
            "flex_flow": null,
            "width": null,
            "min_width": null,
            "border": null,
            "align_items": null,
            "bottom": null,
            "_model_module": "@jupyter-widgets/base",
            "top": null,
            "grid_column": null,
            "overflow_y": null,
            "overflow_x": null,
            "grid_auto_flow": null,
            "grid_area": null,
            "grid_template_columns": null,
            "flex": null,
            "_model_name": "LayoutModel",
            "justify_items": null,
            "grid_row": null,
            "max_height": null,
            "align_content": null,
            "visibility": null,
            "align_self": null,
            "height": null,
            "min_height": null,
            "padding": null,
            "grid_auto_rows": null,
            "grid_gap": null,
            "max_width": null,
            "order": null,
            "_view_module_version": "1.2.0",
            "grid_template_areas": null,
            "object_position": null,
            "object_fit": null,
            "grid_auto_columns": null,
            "margin": null,
            "display": null,
            "left": null
          }
        },
        "40ad36fadd58430c904dfd55f4fdcb76": {
          "model_module": "@jupyter-widgets/controls",
          "model_name": "DescriptionStyleModel",
          "state": {
            "_view_name": "StyleView",
            "_model_name": "DescriptionStyleModel",
            "description_width": "",
            "_view_module": "@jupyter-widgets/base",
            "_model_module_version": "1.5.0",
            "_view_count": null,
            "_view_module_version": "1.2.0",
            "_model_module": "@jupyter-widgets/controls"
          }
        },
        "c4e0781c6be4434e896ee311d0dc05e0": {
          "model_module": "@jupyter-widgets/base",
          "model_name": "LayoutModel",
          "state": {
            "_view_name": "LayoutView",
            "grid_template_rows": null,
            "right": null,
            "justify_content": null,
            "_view_module": "@jupyter-widgets/base",
            "overflow": null,
            "_model_module_version": "1.2.0",
            "_view_count": null,
            "flex_flow": null,
            "width": null,
            "min_width": null,
            "border": null,
            "align_items": null,
            "bottom": null,
            "_model_module": "@jupyter-widgets/base",
            "top": null,
            "grid_column": null,
            "overflow_y": null,
            "overflow_x": null,
            "grid_auto_flow": null,
            "grid_area": null,
            "grid_template_columns": null,
            "flex": null,
            "_model_name": "LayoutModel",
            "justify_items": null,
            "grid_row": null,
            "max_height": null,
            "align_content": null,
            "visibility": null,
            "align_self": null,
            "height": null,
            "min_height": null,
            "padding": null,
            "grid_auto_rows": null,
            "grid_gap": null,
            "max_width": null,
            "order": null,
            "_view_module_version": "1.2.0",
            "grid_template_areas": null,
            "object_position": null,
            "object_fit": null,
            "grid_auto_columns": null,
            "margin": null,
            "display": null,
            "left": null
          }
        }
      }
    }
  },
  "cells": [
    {
      "cell_type": "markdown",
      "metadata": {
        "id": "LD0QMltsDZww",
        "colab_type": "text"
      },
      "source": [
        "# Pytorch Practice : BERT"
      ]
    },
    {
      "cell_type": "code",
      "metadata": {
        "id": "IktCBdyrDj1N",
        "colab_type": "code",
        "cellView": "form",
        "outputId": "8525c16b-050d-4355-f2ca-fd61ccfe1ce0",
        "colab": {
          "base_uri": "https://localhost:8080/",
          "height": 335
        }
      },
      "source": [
        "#@title VIDEO : Training Sentiment Model Using BERT and Serving it with Flask API\n",
        "from IPython.display import HTML\n",
        "\n",
        "HTML('<iframe width=\"560\" height=\"315\" src=\"https://www.youtube.com/embed/hinZO--TEk4\" frameborder=\"0\" allow=\"accelerometer; autoplay; encrypted-media; gyroscope; picture-in-picture\" allowfullscreen></iframe>')"
      ],
      "execution_count": 0,
      "outputs": [
        {
          "output_type": "execute_result",
          "data": {
            "text/html": [
              "<iframe width=\"560\" height=\"315\" src=\"https://www.youtube.com/embed/hinZO--TEk4\" frameborder=\"0\" allow=\"accelerometer; autoplay; encrypted-media; gyroscope; picture-in-picture\" allowfullscreen></iframe>"
            ],
            "text/plain": [
              "<IPython.core.display.HTML object>"
            ]
          },
          "metadata": {
            "tags": []
          },
          "execution_count": 1
        }
      ]
    },
    {
      "cell_type": "markdown",
      "metadata": {
        "id": "ZU2bmipDHEYv",
        "colab_type": "text"
      },
      "source": [
        "# Import Data"
      ]
    },
    {
      "cell_type": "markdown",
      "metadata": {
        "id": "TW3wkgs5TYcT",
        "colab_type": "text"
      },
      "source": [
        "Install Hugging Face Transformer 🤗\n",
        "\n",
        "https://github.com/huggingface/transformers"
      ]
    },
    {
      "cell_type": "code",
      "metadata": {
        "id": "M8sEWrm3XCIQ",
        "colab_type": "code",
        "outputId": "71333594-b678-4903-c69e-9fb0623405d9",
        "colab": {
          "base_uri": "https://localhost:8080/",
          "height": 613
        }
      },
      "source": [
        "! pip install transformers"
      ],
      "execution_count": 0,
      "outputs": [
        {
          "output_type": "stream",
          "text": [
            "Collecting transformers\n",
            "\u001b[?25l  Downloading https://files.pythonhosted.org/packages/12/b5/ac41e3e95205ebf53439e4dd087c58e9fd371fd8e3724f2b9b4cdb8282e5/transformers-2.10.0-py3-none-any.whl (660kB)\n",
            "\r\u001b[K     |▌                               | 10kB 17.7MB/s eta 0:00:01\r\u001b[K     |█                               | 20kB 4.5MB/s eta 0:00:01\r\u001b[K     |█▌                              | 30kB 5.7MB/s eta 0:00:01\r\u001b[K     |██                              | 40kB 5.8MB/s eta 0:00:01\r\u001b[K     |██▌                             | 51kB 5.0MB/s eta 0:00:01\r\u001b[K     |███                             | 61kB 5.1MB/s eta 0:00:01\r\u001b[K     |███▌                            | 71kB 5.6MB/s eta 0:00:01\r\u001b[K     |████                            | 81kB 6.0MB/s eta 0:00:01\r\u001b[K     |████▌                           | 92kB 6.0MB/s eta 0:00:01\r\u001b[K     |█████                           | 102kB 5.8MB/s eta 0:00:01\r\u001b[K     |█████▌                          | 112kB 5.8MB/s eta 0:00:01\r\u001b[K     |██████                          | 122kB 5.8MB/s eta 0:00:01\r\u001b[K     |██████▌                         | 133kB 5.8MB/s eta 0:00:01\r\u001b[K     |███████                         | 143kB 5.8MB/s eta 0:00:01\r\u001b[K     |███████▌                        | 153kB 5.8MB/s eta 0:00:01\r\u001b[K     |████████                        | 163kB 5.8MB/s eta 0:00:01\r\u001b[K     |████████▍                       | 174kB 5.8MB/s eta 0:00:01\r\u001b[K     |█████████                       | 184kB 5.8MB/s eta 0:00:01\r\u001b[K     |█████████▍                      | 194kB 5.8MB/s eta 0:00:01\r\u001b[K     |██████████                      | 204kB 5.8MB/s eta 0:00:01\r\u001b[K     |██████████▍                     | 215kB 5.8MB/s eta 0:00:01\r\u001b[K     |███████████                     | 225kB 5.8MB/s eta 0:00:01\r\u001b[K     |███████████▍                    | 235kB 5.8MB/s eta 0:00:01\r\u001b[K     |████████████                    | 245kB 5.8MB/s eta 0:00:01\r\u001b[K     |████████████▍                   | 256kB 5.8MB/s eta 0:00:01\r\u001b[K     |█████████████                   | 266kB 5.8MB/s eta 0:00:01\r\u001b[K     |█████████████▍                  | 276kB 5.8MB/s eta 0:00:01\r\u001b[K     |██████████████                  | 286kB 5.8MB/s eta 0:00:01\r\u001b[K     |██████████████▍                 | 296kB 5.8MB/s eta 0:00:01\r\u001b[K     |███████████████                 | 307kB 5.8MB/s eta 0:00:01\r\u001b[K     |███████████████▍                | 317kB 5.8MB/s eta 0:00:01\r\u001b[K     |███████████████▉                | 327kB 5.8MB/s eta 0:00:01\r\u001b[K     |████████████████▍               | 337kB 5.8MB/s eta 0:00:01\r\u001b[K     |████████████████▉               | 348kB 5.8MB/s eta 0:00:01\r\u001b[K     |█████████████████▍              | 358kB 5.8MB/s eta 0:00:01\r\u001b[K     |█████████████████▉              | 368kB 5.8MB/s eta 0:00:01\r\u001b[K     |██████████████████▍             | 378kB 5.8MB/s eta 0:00:01\r\u001b[K     |██████████████████▉             | 389kB 5.8MB/s eta 0:00:01\r\u001b[K     |███████████████████▍            | 399kB 5.8MB/s eta 0:00:01\r\u001b[K     |███████████████████▉            | 409kB 5.8MB/s eta 0:00:01\r\u001b[K     |████████████████████▍           | 419kB 5.8MB/s eta 0:00:01\r\u001b[K     |████████████████████▉           | 430kB 5.8MB/s eta 0:00:01\r\u001b[K     |█████████████████████▍          | 440kB 5.8MB/s eta 0:00:01\r\u001b[K     |█████████████████████▉          | 450kB 5.8MB/s eta 0:00:01\r\u001b[K     |██████████████████████▍         | 460kB 5.8MB/s eta 0:00:01\r\u001b[K     |██████████████████████▉         | 471kB 5.8MB/s eta 0:00:01\r\u001b[K     |███████████████████████▎        | 481kB 5.8MB/s eta 0:00:01\r\u001b[K     |███████████████████████▉        | 491kB 5.8MB/s eta 0:00:01\r\u001b[K     |████████████████████████▎       | 501kB 5.8MB/s eta 0:00:01\r\u001b[K     |████████████████████████▉       | 512kB 5.8MB/s eta 0:00:01\r\u001b[K     |█████████████████████████▎      | 522kB 5.8MB/s eta 0:00:01\r\u001b[K     |█████████████████████████▉      | 532kB 5.8MB/s eta 0:00:01\r\u001b[K     |██████████████████████████▎     | 542kB 5.8MB/s eta 0:00:01\r\u001b[K     |██████████████████████████▉     | 552kB 5.8MB/s eta 0:00:01\r\u001b[K     |███████████████████████████▎    | 563kB 5.8MB/s eta 0:00:01\r\u001b[K     |███████████████████████████▉    | 573kB 5.8MB/s eta 0:00:01\r\u001b[K     |████████████████████████████▎   | 583kB 5.8MB/s eta 0:00:01\r\u001b[K     |████████████████████████████▉   | 593kB 5.8MB/s eta 0:00:01\r\u001b[K     |█████████████████████████████▎  | 604kB 5.8MB/s eta 0:00:01\r\u001b[K     |█████████████████████████████▉  | 614kB 5.8MB/s eta 0:00:01\r\u001b[K     |██████████████████████████████▎ | 624kB 5.8MB/s eta 0:00:01\r\u001b[K     |██████████████████████████████▊ | 634kB 5.8MB/s eta 0:00:01\r\u001b[K     |███████████████████████████████▎| 645kB 5.8MB/s eta 0:00:01\r\u001b[K     |███████████████████████████████▊| 655kB 5.8MB/s eta 0:00:01\r\u001b[K     |████████████████████████████████| 665kB 5.8MB/s \n",
            "\u001b[?25hRequirement already satisfied: tqdm>=4.27 in /usr/local/lib/python3.6/dist-packages (from transformers) (4.41.1)\n",
            "Requirement already satisfied: filelock in /usr/local/lib/python3.6/dist-packages (from transformers) (3.0.12)\n",
            "Collecting sentencepiece\n",
            "\u001b[?25l  Downloading https://files.pythonhosted.org/packages/d4/a4/d0a884c4300004a78cca907a6ff9a5e9fe4f090f5d95ab341c53d28cbc58/sentencepiece-0.1.91-cp36-cp36m-manylinux1_x86_64.whl (1.1MB)\n",
            "\r\u001b[K     |▎                               | 10kB 22.6MB/s eta 0:00:01\r\u001b[K     |▋                               | 20kB 28.8MB/s eta 0:00:01\r\u001b[K     |█                               | 30kB 34.5MB/s eta 0:00:01\r\u001b[K     |█▏                              | 40kB 32.6MB/s eta 0:00:01\r\u001b[K     |█▌                              | 51kB 21.6MB/s eta 0:00:01\r\u001b[K     |█▉                              | 61kB 23.9MB/s eta 0:00:01\r\u001b[K     |██▏                             | 71kB 21.8MB/s eta 0:00:01\r\u001b[K     |██▍                             | 81kB 23.3MB/s eta 0:00:01\r\u001b[K     |██▊                             | 92kB 18.6MB/s eta 0:00:01\r\u001b[K     |███                             | 102kB 17.0MB/s eta 0:00:01\r\u001b[K     |███▍                            | 112kB 17.0MB/s eta 0:00:01\r\u001b[K     |███▋                            | 122kB 17.0MB/s eta 0:00:01\r\u001b[K     |████                            | 133kB 17.0MB/s eta 0:00:01\r\u001b[K     |████▎                           | 143kB 17.0MB/s eta 0:00:01\r\u001b[K     |████▋                           | 153kB 17.0MB/s eta 0:00:01\r\u001b[K     |████▉                           | 163kB 17.0MB/s eta 0:00:01\r\u001b[K     |█████▏                          | 174kB 17.0MB/s eta 0:00:01\r\u001b[K     |█████▌                          | 184kB 17.0MB/s eta 0:00:01\r\u001b[K     |█████▉                          | 194kB 17.0MB/s eta 0:00:01\r\u001b[K     |██████                          | 204kB 17.0MB/s eta 0:00:01\r\u001b[K     |██████▍                         | 215kB 17.0MB/s eta 0:00:01\r\u001b[K     |██████▊                         | 225kB 17.0MB/s eta 0:00:01\r\u001b[K     |███████                         | 235kB 17.0MB/s eta 0:00:01\r\u001b[K     |███████▎                        | 245kB 17.0MB/s eta 0:00:01\r\u001b[K     |███████▋                        | 256kB 17.0MB/s eta 0:00:01\r\u001b[K     |████████                        | 266kB 17.0MB/s eta 0:00:01\r\u001b[K     |████████▎                       | 276kB 17.0MB/s eta 0:00:01\r\u001b[K     |████████▌                       | 286kB 17.0MB/s eta 0:00:01\r\u001b[K     |████████▉                       | 296kB 17.0MB/s eta 0:00:01\r\u001b[K     |█████████▏                      | 307kB 17.0MB/s eta 0:00:01\r\u001b[K     |█████████▌                      | 317kB 17.0MB/s eta 0:00:01\r\u001b[K     |█████████▊                      | 327kB 17.0MB/s eta 0:00:01\r\u001b[K     |██████████                      | 337kB 17.0MB/s eta 0:00:01\r\u001b[K     |██████████▍                     | 348kB 17.0MB/s eta 0:00:01\r\u001b[K     |██████████▊                     | 358kB 17.0MB/s eta 0:00:01\r\u001b[K     |███████████                     | 368kB 17.0MB/s eta 0:00:01\r\u001b[K     |███████████▎                    | 378kB 17.0MB/s eta 0:00:01\r\u001b[K     |███████████▋                    | 389kB 17.0MB/s eta 0:00:01\r\u001b[K     |████████████                    | 399kB 17.0MB/s eta 0:00:01\r\u001b[K     |████████████▏                   | 409kB 17.0MB/s eta 0:00:01\r\u001b[K     |████████████▌                   | 419kB 17.0MB/s eta 0:00:01\r\u001b[K     |████████████▉                   | 430kB 17.0MB/s eta 0:00:01\r\u001b[K     |█████████████▏                  | 440kB 17.0MB/s eta 0:00:01\r\u001b[K     |█████████████▍                  | 450kB 17.0MB/s eta 0:00:01\r\u001b[K     |█████████████▊                  | 460kB 17.0MB/s eta 0:00:01\r\u001b[K     |██████████████                  | 471kB 17.0MB/s eta 0:00:01\r\u001b[K     |██████████████▍                 | 481kB 17.0MB/s eta 0:00:01\r\u001b[K     |██████████████▋                 | 491kB 17.0MB/s eta 0:00:01\r\u001b[K     |███████████████                 | 501kB 17.0MB/s eta 0:00:01\r\u001b[K     |███████████████▎                | 512kB 17.0MB/s eta 0:00:01\r\u001b[K     |███████████████▋                | 522kB 17.0MB/s eta 0:00:01\r\u001b[K     |███████████████▉                | 532kB 17.0MB/s eta 0:00:01\r\u001b[K     |████████████████▏               | 542kB 17.0MB/s eta 0:00:01\r\u001b[K     |████████████████▌               | 552kB 17.0MB/s eta 0:00:01\r\u001b[K     |████████████████▉               | 563kB 17.0MB/s eta 0:00:01\r\u001b[K     |█████████████████               | 573kB 17.0MB/s eta 0:00:01\r\u001b[K     |█████████████████▍              | 583kB 17.0MB/s eta 0:00:01\r\u001b[K     |█████████████████▊              | 593kB 17.0MB/s eta 0:00:01\r\u001b[K     |██████████████████              | 604kB 17.0MB/s eta 0:00:01\r\u001b[K     |██████████████████▎             | 614kB 17.0MB/s eta 0:00:01\r\u001b[K     |██████████████████▋             | 624kB 17.0MB/s eta 0:00:01\r\u001b[K     |███████████████████             | 634kB 17.0MB/s eta 0:00:01\r\u001b[K     |███████████████████▎            | 645kB 17.0MB/s eta 0:00:01\r\u001b[K     |███████████████████▌            | 655kB 17.0MB/s eta 0:00:01\r\u001b[K     |███████████████████▉            | 665kB 17.0MB/s eta 0:00:01\r\u001b[K     |████████████████████▏           | 675kB 17.0MB/s eta 0:00:01\r\u001b[K     |████████████████████▌           | 686kB 17.0MB/s eta 0:00:01\r\u001b[K     |████████████████████▊           | 696kB 17.0MB/s eta 0:00:01\r\u001b[K     |█████████████████████           | 706kB 17.0MB/s eta 0:00:01\r\u001b[K     |█████████████████████▍          | 716kB 17.0MB/s eta 0:00:01\r\u001b[K     |█████████████████████▋          | 727kB 17.0MB/s eta 0:00:01\r\u001b[K     |██████████████████████          | 737kB 17.0MB/s eta 0:00:01\r\u001b[K     |██████████████████████▎         | 747kB 17.0MB/s eta 0:00:01\r\u001b[K     |██████████████████████▋         | 757kB 17.0MB/s eta 0:00:01\r\u001b[K     |██████████████████████▉         | 768kB 17.0MB/s eta 0:00:01\r\u001b[K     |███████████████████████▏        | 778kB 17.0MB/s eta 0:00:01\r\u001b[K     |███████████████████████▌        | 788kB 17.0MB/s eta 0:00:01\r\u001b[K     |███████████████████████▉        | 798kB 17.0MB/s eta 0:00:01\r\u001b[K     |████████████████████████        | 808kB 17.0MB/s eta 0:00:01\r\u001b[K     |████████████████████████▍       | 819kB 17.0MB/s eta 0:00:01\r\u001b[K     |████████████████████████▊       | 829kB 17.0MB/s eta 0:00:01\r\u001b[K     |█████████████████████████       | 839kB 17.0MB/s eta 0:00:01\r\u001b[K     |█████████████████████████▎      | 849kB 17.0MB/s eta 0:00:01\r\u001b[K     |█████████████████████████▋      | 860kB 17.0MB/s eta 0:00:01\r\u001b[K     |██████████████████████████      | 870kB 17.0MB/s eta 0:00:01\r\u001b[K     |██████████████████████████▎     | 880kB 17.0MB/s eta 0:00:01\r\u001b[K     |██████████████████████████▌     | 890kB 17.0MB/s eta 0:00:01\r\u001b[K     |██████████████████████████▉     | 901kB 17.0MB/s eta 0:00:01\r\u001b[K     |███████████████████████████▏    | 911kB 17.0MB/s eta 0:00:01\r\u001b[K     |███████████████████████████▌    | 921kB 17.0MB/s eta 0:00:01\r\u001b[K     |███████████████████████████▊    | 931kB 17.0MB/s eta 0:00:01\r\u001b[K     |████████████████████████████    | 942kB 17.0MB/s eta 0:00:01\r\u001b[K     |████████████████████████████▍   | 952kB 17.0MB/s eta 0:00:01\r\u001b[K     |████████████████████████████▊   | 962kB 17.0MB/s eta 0:00:01\r\u001b[K     |█████████████████████████████   | 972kB 17.0MB/s eta 0:00:01\r\u001b[K     |█████████████████████████████▎  | 983kB 17.0MB/s eta 0:00:01\r\u001b[K     |█████████████████████████████▋  | 993kB 17.0MB/s eta 0:00:01\r\u001b[K     |██████████████████████████████  | 1.0MB 17.0MB/s eta 0:00:01\r\u001b[K     |██████████████████████████████▏ | 1.0MB 17.0MB/s eta 0:00:01\r\u001b[K     |██████████████████████████████▌ | 1.0MB 17.0MB/s eta 0:00:01\r\u001b[K     |██████████████████████████████▉ | 1.0MB 17.0MB/s eta 0:00:01\r\u001b[K     |███████████████████████████████▏| 1.0MB 17.0MB/s eta 0:00:01\r\u001b[K     |███████████████████████████████▍| 1.1MB 17.0MB/s eta 0:00:01\r\u001b[K     |███████████████████████████████▊| 1.1MB 17.0MB/s eta 0:00:01\r\u001b[K     |████████████████████████████████| 1.1MB 17.0MB/s \n",
            "\u001b[?25hCollecting sacremoses\n",
            "\u001b[?25l  Downloading https://files.pythonhosted.org/packages/7d/34/09d19aff26edcc8eb2a01bed8e98f13a1537005d31e95233fd48216eed10/sacremoses-0.0.43.tar.gz (883kB)\n",
            "\r\u001b[K     |▍                               | 10kB 22.9MB/s eta 0:00:01\r\u001b[K     |▊                               | 20kB 20kB/s eta 0:00:42\r\u001b[K     |█▏                              | 30kB 31kB/s eta 0:00:28\r\u001b[K     |█▌                              | 40kB 41kB/s eta 0:00:21\r\u001b[K     |█▉                              | 51kB 52kB/s eta 0:00:16\r\u001b[K     |██▎                             | 61kB 62kB/s eta 0:00:14\r\u001b[K     |██▋                             | 71kB 73kB/s eta 0:00:12\r\u001b[K     |███                             | 81kB 83kB/s eta 0:00:10\r\u001b[K     |███▍                            | 92kB 94kB/s eta 0:00:09\r\u001b[K     |███▊                            | 102kB 104kB/s eta 0:00:08\r\u001b[K     |████                            | 112kB 104kB/s eta 0:00:08\r\u001b[K     |████▌                           | 122kB 104kB/s eta 0:00:08\r\u001b[K     |████▉                           | 133kB 104kB/s eta 0:00:08\r\u001b[K     |█████▏                          | 143kB 104kB/s eta 0:00:08\r\u001b[K     |█████▋                          | 153kB 104kB/s eta 0:00:07\r\u001b[K     |██████                          | 163kB 104kB/s eta 0:00:07\r\u001b[K     |██████▎                         | 174kB 104kB/s eta 0:00:07\r\u001b[K     |██████▊                         | 184kB 104kB/s eta 0:00:07\r\u001b[K     |███████                         | 194kB 104kB/s eta 0:00:07\r\u001b[K     |███████▍                        | 204kB 104kB/s eta 0:00:07\r\u001b[K     |███████▉                        | 215kB 104kB/s eta 0:00:07\r\u001b[K     |████████▏                       | 225kB 104kB/s eta 0:00:07\r\u001b[K     |████████▌                       | 235kB 104kB/s eta 0:00:07\r\u001b[K     |█████████                       | 245kB 104kB/s eta 0:00:07\r\u001b[K     |█████████▎                      | 256kB 104kB/s eta 0:00:07\r\u001b[K     |█████████▋                      | 266kB 104kB/s eta 0:00:06\r\u001b[K     |██████████                      | 276kB 104kB/s eta 0:00:06\r\u001b[K     |██████████▍                     | 286kB 104kB/s eta 0:00:06\r\u001b[K     |██████████▊                     | 296kB 104kB/s eta 0:00:06\r\u001b[K     |███████████▏                    | 307kB 104kB/s eta 0:00:06\r\u001b[K     |███████████▌                    | 317kB 104kB/s eta 0:00:06\r\u001b[K     |███████████▉                    | 327kB 104kB/s eta 0:00:06\r\u001b[K     |████████████▎                   | 337kB 104kB/s eta 0:00:06\r\u001b[K     |████████████▋                   | 348kB 104kB/s eta 0:00:06\r\u001b[K     |█████████████                   | 358kB 104kB/s eta 0:00:06\r\u001b[K     |█████████████▍                  | 368kB 104kB/s eta 0:00:05\r\u001b[K     |█████████████▊                  | 378kB 104kB/s eta 0:00:05\r\u001b[K     |██████████████                  | 389kB 104kB/s eta 0:00:05\r\u001b[K     |██████████████▌                 | 399kB 104kB/s eta 0:00:05\r\u001b[K     |██████████████▉                 | 409kB 104kB/s eta 0:00:05\r\u001b[K     |███████████████▏                | 419kB 104kB/s eta 0:00:05\r\u001b[K     |███████████████▋                | 430kB 104kB/s eta 0:00:05\r\u001b[K     |████████████████                | 440kB 104kB/s eta 0:00:05\r\u001b[K     |████████████████▎               | 450kB 104kB/s eta 0:00:05\r\u001b[K     |████████████████▊               | 460kB 104kB/s eta 0:00:05\r\u001b[K     |█████████████████               | 471kB 104kB/s eta 0:00:04\r\u001b[K     |█████████████████▍              | 481kB 104kB/s eta 0:00:04\r\u001b[K     |█████████████████▉              | 491kB 104kB/s eta 0:00:04\r\u001b[K     |██████████████████▏             | 501kB 104kB/s eta 0:00:04\r\u001b[K     |██████████████████▌             | 512kB 104kB/s eta 0:00:04\r\u001b[K     |███████████████████             | 522kB 104kB/s eta 0:00:04\r\u001b[K     |███████████████████▎            | 532kB 104kB/s eta 0:00:04\r\u001b[K     |███████████████████▋            | 542kB 104kB/s eta 0:00:04\r\u001b[K     |████████████████████            | 552kB 104kB/s eta 0:00:04\r\u001b[K     |████████████████████▍           | 563kB 104kB/s eta 0:00:04\r\u001b[K     |████████████████████▊           | 573kB 104kB/s eta 0:00:03\r\u001b[K     |█████████████████████▏          | 583kB 104kB/s eta 0:00:03\r\u001b[K     |█████████████████████▌          | 593kB 104kB/s eta 0:00:03\r\u001b[K     |█████████████████████▉          | 604kB 104kB/s eta 0:00:03\r\u001b[K     |██████████████████████▎         | 614kB 104kB/s eta 0:00:03\r\u001b[K     |██████████████████████▋         | 624kB 104kB/s eta 0:00:03\r\u001b[K     |███████████████████████         | 634kB 104kB/s eta 0:00:03\r\u001b[K     |███████████████████████▍        | 645kB 104kB/s eta 0:00:03\r\u001b[K     |███████████████████████▊        | 655kB 104kB/s eta 0:00:03\r\u001b[K     |████████████████████████        | 665kB 104kB/s eta 0:00:03\r\u001b[K     |████████████████████████▌       | 675kB 104kB/s eta 0:00:02\r\u001b[K     |████████████████████████▉       | 686kB 104kB/s eta 0:00:02\r\u001b[K     |█████████████████████████▏      | 696kB 104kB/s eta 0:00:02\r\u001b[K     |█████████████████████████▋      | 706kB 104kB/s eta 0:00:02\r\u001b[K     |██████████████████████████      | 716kB 104kB/s eta 0:00:02\r\u001b[K     |██████████████████████████▎     | 727kB 104kB/s eta 0:00:02\r\u001b[K     |██████████████████████████▊     | 737kB 104kB/s eta 0:00:02\r\u001b[K     |███████████████████████████     | 747kB 104kB/s eta 0:00:02\r\u001b[K     |███████████████████████████▍    | 757kB 104kB/s eta 0:00:02\r\u001b[K     |███████████████████████████▉    | 768kB 104kB/s eta 0:00:02\r\u001b[K     |████████████████████████████▏   | 778kB 104kB/s eta 0:00:02\r\u001b[K     |████████████████████████████▌   | 788kB 104kB/s eta 0:00:01\r\u001b[K     |█████████████████████████████   | 798kB 104kB/s eta 0:00:01\r\u001b[K     |█████████████████████████████▎  | 808kB 104kB/s eta 0:00:01\r\u001b[K     |█████████████████████████████▋  | 819kB 104kB/s eta 0:00:01\r\u001b[K     |██████████████████████████████  | 829kB 104kB/s eta 0:00:01\r\u001b[K     |██████████████████████████████▍ | 839kB 104kB/s eta 0:00:01\r\u001b[K     |██████████████████████████████▊ | 849kB 104kB/s eta 0:00:01\r\u001b[K     |███████████████████████████████▏| 860kB 104kB/s eta 0:00:01\r\u001b[K     |███████████████████████████████▌| 870kB 104kB/s eta 0:00:01\r\u001b[K     |███████████████████████████████▉| 880kB 104kB/s eta 0:00:01\r\u001b[K     |████████████████████████████████| 890kB 104kB/s \n",
            "\u001b[?25hRequirement already satisfied: requests in /usr/local/lib/python3.6/dist-packages (from transformers) (2.23.0)\n",
            "Requirement already satisfied: regex!=2019.12.17 in /usr/local/lib/python3.6/dist-packages (from transformers) (2019.12.20)\n",
            "Requirement already satisfied: numpy in /usr/local/lib/python3.6/dist-packages (from transformers) (1.18.4)\n",
            "Requirement already satisfied: dataclasses; python_version < \"3.7\" in /usr/local/lib/python3.6/dist-packages (from transformers) (0.7)\n",
            "Collecting tokenizers==0.7.0\n",
            "\u001b[?25l  Downloading https://files.pythonhosted.org/packages/14/e5/a26eb4716523808bb0a799fcfdceb6ebf77a18169d9591b2f46a9adb87d9/tokenizers-0.7.0-cp36-cp36m-manylinux1_x86_64.whl (3.8MB)\n",
            "\u001b[K     |████████████████████████████████| 3.8MB 11.1MB/s \n",
            "\u001b[?25hRequirement already satisfied: six in /usr/local/lib/python3.6/dist-packages (from sacremoses->transformers) (1.12.0)\n",
            "Requirement already satisfied: click in /usr/local/lib/python3.6/dist-packages (from sacremoses->transformers) (7.1.2)\n",
            "Requirement already satisfied: joblib in /usr/local/lib/python3.6/dist-packages (from sacremoses->transformers) (0.15.1)\n",
            "Requirement already satisfied: urllib3!=1.25.0,!=1.25.1,<1.26,>=1.21.1 in /usr/local/lib/python3.6/dist-packages (from requests->transformers) (1.24.3)\n",
            "Requirement already satisfied: chardet<4,>=3.0.2 in /usr/local/lib/python3.6/dist-packages (from requests->transformers) (3.0.4)\n",
            "Requirement already satisfied: certifi>=2017.4.17 in /usr/local/lib/python3.6/dist-packages (from requests->transformers) (2020.4.5.1)\n",
            "Requirement already satisfied: idna<3,>=2.5 in /usr/local/lib/python3.6/dist-packages (from requests->transformers) (2.9)\n",
            "Building wheels for collected packages: sacremoses\n",
            "  Building wheel for sacremoses (setup.py) ... \u001b[?25l\u001b[?25hdone\n",
            "  Created wheel for sacremoses: filename=sacremoses-0.0.43-cp36-none-any.whl size=893260 sha256=2bade97aa43c7fa52706fe4dd6d08a9ba75e36006a54c4afd4f6c0d934cbd8fd\n",
            "  Stored in directory: /root/.cache/pip/wheels/29/3c/fd/7ce5c3f0666dab31a50123635e6fb5e19ceb42ce38d4e58f45\n",
            "Successfully built sacremoses\n",
            "Installing collected packages: sentencepiece, sacremoses, tokenizers, transformers\n",
            "Successfully installed sacremoses-0.0.43 sentencepiece-0.1.91 tokenizers-0.7.0 transformers-2.10.0\n"
          ],
          "name": "stdout"
        }
      ]
    },
    {
      "cell_type": "code",
      "metadata": {
        "id": "44BScukgHJ-j",
        "colab_type": "code",
        "outputId": "f2428785-668b-425e-ac07-4ccf4e74f7cf",
        "colab": {
          "base_uri": "https://localhost:8080/",
          "height": 199
        }
      },
      "source": [
        "! pip install ipython-autotime\n",
        "\n",
        "%load_ext autotime"
      ],
      "execution_count": 0,
      "outputs": [
        {
          "output_type": "stream",
          "text": [
            "Collecting ipython-autotime\n",
            "  Downloading https://files.pythonhosted.org/packages/e6/f9/0626bbdb322e3a078d968e87e3b01341e7890544de891d0cb613641220e6/ipython-autotime-0.1.tar.bz2\n",
            "Building wheels for collected packages: ipython-autotime\n",
            "  Building wheel for ipython-autotime (setup.py) ... \u001b[?25l\u001b[?25hdone\n",
            "  Created wheel for ipython-autotime: filename=ipython_autotime-0.1-cp36-none-any.whl size=1832 sha256=9524072be17a52f5e8ffd027caf322be018a4fd182e92d807df6d839d4be948a\n",
            "  Stored in directory: /root/.cache/pip/wheels/d2/df/81/2db1e54bc91002cec40334629bc39cfa86dff540b304ebcd6e\n",
            "Successfully built ipython-autotime\n",
            "Installing collected packages: ipython-autotime\n",
            "Successfully installed ipython-autotime-0.1\n"
          ],
          "name": "stdout"
        }
      ]
    },
    {
      "cell_type": "code",
      "metadata": {
        "id": "MSoKpzJs7xLc",
        "colab_type": "code",
        "outputId": "164d8932-0d03-4131-c061-dc901df0f967",
        "colab": {
          "base_uri": "https://localhost:8080/",
          "height": 35
        }
      },
      "source": [
        "import pandas as pd\n",
        "\n",
        "train_df = pd.read_csv('https://raw.githubusercontent.com/suakow/twitter_sentiment-bert/master/dis_tweet_train.csv')"
      ],
      "execution_count": 0,
      "outputs": [
        {
          "output_type": "stream",
          "text": [
            "time: 397 ms\n"
          ],
          "name": "stdout"
        }
      ]
    },
    {
      "cell_type": "code",
      "metadata": {
        "id": "DHVwRIHP782r",
        "colab_type": "code",
        "outputId": "f0e8d860-3cb6-4005-9108-e23cc8ea5e7e",
        "colab": {
          "base_uri": "https://localhost:8080/",
          "height": 220
        }
      },
      "source": [
        "train_df.head()"
      ],
      "execution_count": 0,
      "outputs": [
        {
          "output_type": "execute_result",
          "data": {
            "text/html": [
              "<div>\n",
              "<style scoped>\n",
              "    .dataframe tbody tr th:only-of-type {\n",
              "        vertical-align: middle;\n",
              "    }\n",
              "\n",
              "    .dataframe tbody tr th {\n",
              "        vertical-align: top;\n",
              "    }\n",
              "\n",
              "    .dataframe thead th {\n",
              "        text-align: right;\n",
              "    }\n",
              "</style>\n",
              "<table border=\"1\" class=\"dataframe\">\n",
              "  <thead>\n",
              "    <tr style=\"text-align: right;\">\n",
              "      <th></th>\n",
              "      <th>id</th>\n",
              "      <th>keyword</th>\n",
              "      <th>location</th>\n",
              "      <th>text</th>\n",
              "      <th>target</th>\n",
              "    </tr>\n",
              "  </thead>\n",
              "  <tbody>\n",
              "    <tr>\n",
              "      <th>0</th>\n",
              "      <td>1</td>\n",
              "      <td>NaN</td>\n",
              "      <td>NaN</td>\n",
              "      <td>Our Deeds are the Reason of this #earthquake M...</td>\n",
              "      <td>1</td>\n",
              "    </tr>\n",
              "    <tr>\n",
              "      <th>1</th>\n",
              "      <td>4</td>\n",
              "      <td>NaN</td>\n",
              "      <td>NaN</td>\n",
              "      <td>Forest fire near La Ronge Sask. Canada</td>\n",
              "      <td>1</td>\n",
              "    </tr>\n",
              "    <tr>\n",
              "      <th>2</th>\n",
              "      <td>5</td>\n",
              "      <td>NaN</td>\n",
              "      <td>NaN</td>\n",
              "      <td>All residents asked to 'shelter in place' are ...</td>\n",
              "      <td>1</td>\n",
              "    </tr>\n",
              "    <tr>\n",
              "      <th>3</th>\n",
              "      <td>6</td>\n",
              "      <td>NaN</td>\n",
              "      <td>NaN</td>\n",
              "      <td>13,000 people receive #wildfires evacuation or...</td>\n",
              "      <td>1</td>\n",
              "    </tr>\n",
              "    <tr>\n",
              "      <th>4</th>\n",
              "      <td>7</td>\n",
              "      <td>NaN</td>\n",
              "      <td>NaN</td>\n",
              "      <td>Just got sent this photo from Ruby #Alaska as ...</td>\n",
              "      <td>1</td>\n",
              "    </tr>\n",
              "  </tbody>\n",
              "</table>\n",
              "</div>"
            ],
            "text/plain": [
              "   id keyword  ...                                               text target\n",
              "0   1     NaN  ...  Our Deeds are the Reason of this #earthquake M...      1\n",
              "1   4     NaN  ...             Forest fire near La Ronge Sask. Canada      1\n",
              "2   5     NaN  ...  All residents asked to 'shelter in place' are ...      1\n",
              "3   6     NaN  ...  13,000 people receive #wildfires evacuation or...      1\n",
              "4   7     NaN  ...  Just got sent this photo from Ruby #Alaska as ...      1\n",
              "\n",
              "[5 rows x 5 columns]"
            ]
          },
          "metadata": {
            "tags": []
          },
          "execution_count": 5
        },
        {
          "output_type": "stream",
          "text": [
            "time: 28.6 ms\n"
          ],
          "name": "stdout"
        }
      ]
    },
    {
      "cell_type": "code",
      "metadata": {
        "id": "g1-9cnIr7_fW",
        "colab_type": "code",
        "outputId": "7d141808-385f-457c-d3e4-e850a0cfa1ef",
        "colab": {
          "base_uri": "https://localhost:8080/",
          "height": 35
        }
      },
      "source": [
        "train_df.shape"
      ],
      "execution_count": 0,
      "outputs": [
        {
          "output_type": "execute_result",
          "data": {
            "text/plain": [
              "(7613, 5)"
            ]
          },
          "metadata": {
            "tags": []
          },
          "execution_count": 6
        },
        {
          "output_type": "stream",
          "text": [
            "time: 3.31 ms\n"
          ],
          "name": "stdout"
        }
      ]
    },
    {
      "cell_type": "code",
      "metadata": {
        "id": "1fvfkEFV8ivA",
        "colab_type": "code",
        "outputId": "1681314f-3fac-402c-84ad-ca82d8cf16a5",
        "colab": {
          "base_uri": "https://localhost:8080/",
          "height": 159
        }
      },
      "source": [
        "pd.crosstab(train_df['target'], columns=['c'])"
      ],
      "execution_count": 0,
      "outputs": [
        {
          "output_type": "execute_result",
          "data": {
            "text/html": [
              "<div>\n",
              "<style scoped>\n",
              "    .dataframe tbody tr th:only-of-type {\n",
              "        vertical-align: middle;\n",
              "    }\n",
              "\n",
              "    .dataframe tbody tr th {\n",
              "        vertical-align: top;\n",
              "    }\n",
              "\n",
              "    .dataframe thead th {\n",
              "        text-align: right;\n",
              "    }\n",
              "</style>\n",
              "<table border=\"1\" class=\"dataframe\">\n",
              "  <thead>\n",
              "    <tr style=\"text-align: right;\">\n",
              "      <th>col_0</th>\n",
              "      <th>c</th>\n",
              "    </tr>\n",
              "    <tr>\n",
              "      <th>target</th>\n",
              "      <th></th>\n",
              "    </tr>\n",
              "  </thead>\n",
              "  <tbody>\n",
              "    <tr>\n",
              "      <th>0</th>\n",
              "      <td>4342</td>\n",
              "    </tr>\n",
              "    <tr>\n",
              "      <th>1</th>\n",
              "      <td>3271</td>\n",
              "    </tr>\n",
              "  </tbody>\n",
              "</table>\n",
              "</div>"
            ],
            "text/plain": [
              "col_0      c\n",
              "target      \n",
              "0       4342\n",
              "1       3271"
            ]
          },
          "metadata": {
            "tags": []
          },
          "execution_count": 7
        },
        {
          "output_type": "stream",
          "text": [
            "time: 40.2 ms\n"
          ],
          "name": "stdout"
        }
      ]
    },
    {
      "cell_type": "markdown",
      "metadata": {
        "id": "Bhm_4vEWTQ_O",
        "colab_type": "text"
      },
      "source": [
        "Define model property."
      ]
    },
    {
      "cell_type": "code",
      "metadata": {
        "id": "crBOVubdTPOn",
        "colab_type": "code",
        "outputId": "961830a0-3933-4745-8d5a-ad9822adc26a",
        "colab": {
          "base_uri": "https://localhost:8080/",
          "height": 85,
          "referenced_widgets": [
            "026d756affa449f295ba8435ebd74b25",
            "c768d10a82c64309b90b10f9cf273c58",
            "f37fa1bd3ad54c72a03208af37d0eb7a",
            "d9f971e0ba274e7b9d7e6994db9cc061",
            "5135f408475e495e81c787cf2419c893",
            "ba2dd5dab8874c579958e397a37b3ac9",
            "3120fb9e098641afb2c2367d1b7a70bb",
            "ae2287cb2f37467fbbaaba29e35ca923"
          ]
        }
      },
      "source": [
        "import transformers\n",
        "\n",
        "MAX_Len = 512 \n",
        "TRAIN_BATCH_SIZE = 8 \n",
        "VALID_BATCH_SIZE = 4\n",
        "TEST_BATCH_SIZE = 8\n",
        "BERT_PATH = 'bert-base-uncased'\n",
        "TOKENZIER = transformers.BertTokenizer.from_pretrained(BERT_PATH ,do_lower_case = True )"
      ],
      "execution_count": 0,
      "outputs": [
        {
          "output_type": "display_data",
          "data": {
            "application/vnd.jupyter.widget-view+json": {
              "model_id": "026d756affa449f295ba8435ebd74b25",
              "version_minor": 0,
              "version_major": 2
            },
            "text/plain": [
              "HBox(children=(FloatProgress(value=0.0, description='Downloading', max=231508.0, style=ProgressStyle(descripti…"
            ]
          },
          "metadata": {
            "tags": []
          }
        },
        {
          "output_type": "stream",
          "text": [
            "\n",
            "time: 6.11 s\n"
          ],
          "name": "stdout"
        }
      ]
    },
    {
      "cell_type": "markdown",
      "metadata": {
        "id": "zMNXQeqmY2oE",
        "colab_type": "text"
      },
      "source": [
        "# Define Dataset"
      ]
    },
    {
      "cell_type": "code",
      "metadata": {
        "id": "K6zTiij4Y7B5",
        "colab_type": "code",
        "outputId": "202f554d-0f3e-4c2e-f6d0-36d145677953",
        "colab": {
          "base_uri": "https://localhost:8080/",
          "height": 35
        }
      },
      "source": [
        "class BERTDataset : \n",
        "    def __init__(self,df) : \n",
        "        self.text = df['text'].values\n",
        "        self.target = df['target'].values \n",
        "        self.tokenizer = TOKENZIER \n",
        "        self.max_len = MAX_Len \n",
        "\n",
        "    def __len__(self) : \n",
        "        return len(self.text)\n",
        "        \n",
        "    def __getitem__(self, item):\n",
        "        text = str(self.text[item])\n",
        "        text = \" \".join(text.split())\n",
        "\n",
        "        inputs = self.tokenizer.encode_plus(\n",
        "                text,\n",
        "                None,\n",
        "                add_special_tokens=True,\n",
        "                max_length=self.max_len\n",
        "            )\n",
        "\n",
        "        ids = inputs[\"input_ids\"]\n",
        "        mask = inputs[\"attention_mask\"]\n",
        "        token_type_ids = inputs[\"token_type_ids\"]\n",
        "\n",
        "        padding_length = self.max_len - len(ids)\n",
        "        ids = ids + ([0] * padding_length)\n",
        "        mask = mask + ([0] * padding_length)\n",
        "        token_type_ids = token_type_ids + ([0] * padding_length)\n",
        "\n",
        "        return {\n",
        "                'ids': torch.tensor(ids, dtype=torch.long),\n",
        "                'mask': torch.tensor(mask, dtype=torch.long),\n",
        "                'token_type_ids': torch.tensor(token_type_ids, dtype=torch.long),\n",
        "                'targets': torch.tensor(self.target[item], dtype=torch.float)\n",
        "            }"
      ],
      "execution_count": 0,
      "outputs": [
        {
          "output_type": "stream",
          "text": [
            "time: 22 ms\n"
          ],
          "name": "stdout"
        }
      ]
    },
    {
      "cell_type": "code",
      "metadata": {
        "id": "9p-r93LTAEcD",
        "colab_type": "code",
        "outputId": "7b12a872-c811-4890-bd0f-7e8bd41301b9",
        "colab": {
          "base_uri": "https://localhost:8080/",
          "height": 35
        }
      },
      "source": [
        "train_df = train_df[['text', 'target']]"
      ],
      "execution_count": 0,
      "outputs": [
        {
          "output_type": "stream",
          "text": [
            "time: 4.32 ms\n"
          ],
          "name": "stdout"
        }
      ]
    },
    {
      "cell_type": "code",
      "metadata": {
        "id": "tDybImaxALSZ",
        "colab_type": "code",
        "outputId": "c736d8ac-8740-4758-c6e4-255dbd5bb04f",
        "colab": {
          "base_uri": "https://localhost:8080/",
          "height": 71
        }
      },
      "source": [
        "train_df.isnull().any()"
      ],
      "execution_count": 0,
      "outputs": [
        {
          "output_type": "execute_result",
          "data": {
            "text/plain": [
              "text      False\n",
              "target    False\n",
              "dtype: bool"
            ]
          },
          "metadata": {
            "tags": []
          },
          "execution_count": 12
        },
        {
          "output_type": "stream",
          "text": [
            "time: 22.5 ms\n"
          ],
          "name": "stdout"
        }
      ]
    },
    {
      "cell_type": "code",
      "metadata": {
        "id": "ZjiXYbRWARR-",
        "colab_type": "code",
        "outputId": "5a52bcec-7c2f-4f8f-9bef-ca51ec8d635a",
        "colab": {
          "base_uri": "https://localhost:8080/",
          "height": 35
        }
      },
      "source": [
        "from sklearn.model_selection import train_test_split\n",
        "test_size = 0.2\n",
        "val_size = 0.1\n",
        "\n",
        "new_X, X_test = train_test_split(train_df, test_size=test_size, random_state=55,stratify = train_df['target'].values)\n",
        "X_train, X_val = train_test_split(new_X, test_size=(val_size/(1-test_size)), random_state=55,stratify = new_X['target'].values)"
      ],
      "execution_count": 0,
      "outputs": [
        {
          "output_type": "stream",
          "text": [
            "time: 30.1 ms\n"
          ],
          "name": "stdout"
        }
      ]
    },
    {
      "cell_type": "code",
      "metadata": {
        "id": "_pYXrAuTBMBX",
        "colab_type": "code",
        "outputId": "d2d05558-7ba3-4add-8cde-67bfd78dab8d",
        "colab": {
          "base_uri": "https://localhost:8080/",
          "height": 35
        }
      },
      "source": [
        "X_train.shape"
      ],
      "execution_count": 0,
      "outputs": [
        {
          "output_type": "execute_result",
          "data": {
            "text/plain": [
              "(5328, 2)"
            ]
          },
          "metadata": {
            "tags": []
          },
          "execution_count": 14
        },
        {
          "output_type": "stream",
          "text": [
            "time: 3.43 ms\n"
          ],
          "name": "stdout"
        }
      ]
    },
    {
      "cell_type": "code",
      "metadata": {
        "id": "Xkt98nwhBOna",
        "colab_type": "code",
        "outputId": "4829ba4c-49c2-425b-ea73-d468a2d53659",
        "colab": {
          "base_uri": "https://localhost:8080/",
          "height": 35
        }
      },
      "source": [
        "X_val.shape"
      ],
      "execution_count": 0,
      "outputs": [
        {
          "output_type": "execute_result",
          "data": {
            "text/plain": [
              "(762, 2)"
            ]
          },
          "metadata": {
            "tags": []
          },
          "execution_count": 15
        },
        {
          "output_type": "stream",
          "text": [
            "time: 2.67 ms\n"
          ],
          "name": "stdout"
        }
      ]
    },
    {
      "cell_type": "code",
      "metadata": {
        "id": "IiqQXCBRBR0K",
        "colab_type": "code",
        "outputId": "c45c3d7a-5578-4ea1-bc50-9c25c122f7d1",
        "colab": {
          "base_uri": "https://localhost:8080/",
          "height": 35
        }
      },
      "source": [
        "X_test.shape"
      ],
      "execution_count": 0,
      "outputs": [
        {
          "output_type": "execute_result",
          "data": {
            "text/plain": [
              "(1523, 2)"
            ]
          },
          "metadata": {
            "tags": []
          },
          "execution_count": 16
        },
        {
          "output_type": "stream",
          "text": [
            "time: 2.66 ms\n"
          ],
          "name": "stdout"
        }
      ]
    },
    {
      "cell_type": "code",
      "metadata": {
        "id": "wX23wr_WBvUd",
        "colab_type": "code",
        "outputId": "99f5726d-b448-4308-e07b-67d6ace8126f",
        "colab": {
          "base_uri": "https://localhost:8080/",
          "height": 35
        }
      },
      "source": [
        "import torch\n",
        "\n",
        "TRAIN_BATCH_SIZE = 8 \n",
        "VALID_BATCH_SIZE = 4\n",
        "TEST_BATCH_SIZE = 8\n",
        "\n",
        "train_dataloader = torch.utils.data.DataLoader(BERTDataset(X_train), batch_size=TRAIN_BATCH_SIZE)\n",
        "valid_dataloader = torch.utils.data.DataLoader(BERTDataset(X_val), batch_size=VALID_BATCH_SIZE)\n",
        "test_dataloader = torch.utils.data.DataLoader(BERTDataset(X_test), batch_size=TEST_BATCH_SIZE)"
      ],
      "execution_count": 0,
      "outputs": [
        {
          "output_type": "stream",
          "text": [
            "time: 6.13 ms\n"
          ],
          "name": "stdout"
        }
      ]
    },
    {
      "cell_type": "markdown",
      "metadata": {
        "id": "G0B24kvoYZBa",
        "colab_type": "text"
      },
      "source": [
        "# Create Model"
      ]
    },
    {
      "cell_type": "code",
      "metadata": {
        "id": "WkmoZb57YauE",
        "colab_type": "code",
        "outputId": "7bb4629e-f3c8-4eb3-ed70-25c9836c98fc",
        "colab": {
          "base_uri": "https://localhost:8080/",
          "height": 35
        }
      },
      "source": [
        "import torch\n",
        "\n",
        "class BertBaseUncased(torch.nn.Module) :\n",
        "    def __init__(self) : \n",
        "        super(BertBaseUncased,self).__init__() \n",
        "        self.bert = transformers.BertModel.from_pretrained(BERT_PATH) \n",
        "        self.bert_drop = torch.nn.Dropout(0.4) \n",
        "        self.out = torch.nn.Linear(768,1)\n",
        "        \n",
        "    def forward(self,ids,mask,token_type_ids) : \n",
        "        out1, out2 = self.bert( \n",
        "            ids , \n",
        "            attention_mask = mask , \n",
        "            token_type_ids = token_type_ids \n",
        "        )\n",
        "        bo = self.bert_drop(out2) \n",
        "        output = self.out(bo) \n",
        "        return output "
      ],
      "execution_count": 0,
      "outputs": [
        {
          "output_type": "stream",
          "text": [
            "time: 10.6 ms\n"
          ],
          "name": "stdout"
        }
      ]
    },
    {
      "cell_type": "code",
      "metadata": {
        "id": "YLVsMODCgR2X",
        "colab_type": "code",
        "outputId": "4669f651-54b5-4d6f-e0e1-5763be4ccc53",
        "colab": {
          "base_uri": "https://localhost:8080/",
          "height": 35
        }
      },
      "source": [
        "def loss_fn(outputs, targets) :\n",
        "    return torch.nn.BCEWithLogitsLoss()(outputs, targets.view(-1, 1))"
      ],
      "execution_count": 0,
      "outputs": [
        {
          "output_type": "stream",
          "text": [
            "time: 1.62 ms\n"
          ],
          "name": "stdout"
        }
      ]
    },
    {
      "cell_type": "code",
      "metadata": {
        "id": "OqjXxrjQgWa5",
        "colab_type": "code",
        "outputId": "76835435-2f7c-4b95-c80b-edff2a000591",
        "colab": {
          "base_uri": "https://localhost:8080/",
          "height": 35
        }
      },
      "source": [
        "import tqdm\n",
        "\n",
        "def train_fn(data_loader, model, optimizer, scheduler):\n",
        "    model.train()\n",
        "\n",
        "    for bi, d in tqdm.tqdm(enumerate(data_loader), total=len(data_loader)):\n",
        "        ids = d[\"ids\"]\n",
        "        token_type_ids = d[\"token_type_ids\"]\n",
        "        mask = d[\"mask\"]\n",
        "        targets = d[\"targets\"]\n",
        "\n",
        "        ids = ids.to(device, dtype=torch.long)\n",
        "        token_type_ids = token_type_ids.to(device, dtype=torch.long)\n",
        "        mask = mask.to(device, dtype=torch.long)\n",
        "        targets = targets.to(device, dtype=torch.float)\n",
        "\n",
        "        optimizer.zero_grad()\n",
        "        outputs = model(\n",
        "            ids=ids,\n",
        "            mask=mask,\n",
        "            token_type_ids=token_type_ids\n",
        "        )\n",
        "\n",
        "        loss = loss_fn(outputs, targets)\n",
        "        loss.backward()\n",
        "        optimizer.step()"
      ],
      "execution_count": 0,
      "outputs": [
        {
          "output_type": "stream",
          "text": [
            "time: 18.3 ms\n"
          ],
          "name": "stdout"
        }
      ]
    },
    {
      "cell_type": "code",
      "metadata": {
        "id": "rd_pidLIgWZT",
        "colab_type": "code",
        "outputId": "84f6e3e8-c01d-4d33-c669-873f7f4af039",
        "colab": {
          "base_uri": "https://localhost:8080/",
          "height": 35
        }
      },
      "source": [
        "def eval_fn(data_loader, model):\n",
        "    model.eval()\n",
        "    fin_targets = []\n",
        "    fin_outputs = []\n",
        "    with torch.no_grad():\n",
        "        for bi, d in tqdm.tqdm(enumerate(data_loader), total=len(data_loader)):\n",
        "            ids = d[\"ids\"]\n",
        "            token_type_ids = d[\"token_type_ids\"]\n",
        "            mask = d[\"mask\"]\n",
        "            targets = d[\"targets\"]\n",
        "\n",
        "            ids = ids.to(device, dtype=torch.long)\n",
        "            token_type_ids = token_type_ids.to(device, dtype=torch.long)\n",
        "            mask = mask.to(device, dtype=torch.long)\n",
        "            targets = targets.to(device, dtype=torch.float)\n",
        "\n",
        "            outputs = model(\n",
        "                ids=ids,\n",
        "                mask=mask,\n",
        "                token_type_ids=token_type_ids\n",
        "            )\n",
        "            fin_targets.extend(targets.cpu().detach().numpy().tolist())\n",
        "            fin_outputs.extend(torch.sigmoid(outputs).cpu().detach().numpy().tolist())\n",
        "    return fin_outputs, fin_targets"
      ],
      "execution_count": 0,
      "outputs": [
        {
          "output_type": "stream",
          "text": [
            "time: 17.7 ms\n"
          ],
          "name": "stdout"
        }
      ]
    },
    {
      "cell_type": "code",
      "metadata": {
        "id": "hmWPXdm0gkhL",
        "colab_type": "code",
        "outputId": "7ecba940-0ec2-42b8-b5aa-5069ad2788b9",
        "colab": {
          "base_uri": "https://localhost:8080/",
          "height": 35
        }
      },
      "source": [
        "from sklearn.model_selection import train_test_split\n",
        "from sklearn.metrics import accuracy_score\n",
        "import pandas as pd\n",
        "import numpy as np\n",
        "\n",
        "DEVICE =torch.device(\"cuda\")\n",
        "device = torch.device(\"cuda\")\n",
        "\n",
        "def run(model, EPOCHS, train_data_loader, valid_data_loader):\n",
        "    device = torch.device(\"cuda\")\n",
        "    \n",
        "    param_optimizer = list(model.named_parameters())\n",
        "    no_decay = [\"bias\", \"LayerNorm.bias\", \"LayerNorm.weight\"]\n",
        "    optimizer_parameters = [\n",
        "        {'params': [p for n, p in param_optimizer if not any(nd in n for nd in no_decay)], 'weight_decay': 0.001},\n",
        "        {'params': [p for n, p in param_optimizer if any(nd in n for nd in no_decay)], 'weight_decay': 0.0},\n",
        "    ]\n",
        "\n",
        "    num_train_steps = int(len(train_data_loader)) * EPOCHS\n",
        "    optimizer = torch.optim.AdamW(optimizer_parameters, lr=1e-5)\n",
        "    scheduler = transformers.get_linear_schedule_with_warmup(\n",
        "        optimizer,\n",
        "        num_warmup_steps=0,\n",
        "        num_training_steps=num_train_steps\n",
        "    )\n",
        "\n",
        "    model = torch.nn.DataParallel(model)\n",
        "\n",
        "    best_accuracy = 0\n",
        "\n",
        "    for epoch in range(EPOCHS):\n",
        "        print('epoch : %s'%(epoch+1))\n",
        "        train_fn(train_data_loader, model, optimizer, scheduler)\n",
        "        outputs, targets = eval_fn(valid_data_loader, model)\n",
        "        outputs = np.array(outputs) >= 0.5\n",
        "        accuracy = accuracy_score(targets, outputs)\n",
        "        print('')\n",
        "        print(f\"Accuracy Score = {accuracy}\")\n",
        "        scheduler.step()"
      ],
      "execution_count": 0,
      "outputs": [
        {
          "output_type": "stream",
          "text": [
            "time: 44.3 ms\n"
          ],
          "name": "stdout"
        }
      ]
    },
    {
      "cell_type": "code",
      "metadata": {
        "id": "N9vC8Zc6hSI0",
        "colab_type": "code",
        "outputId": "e03912db-9a38-4c64-b8bd-749e24ade637",
        "colab": {
          "base_uri": "https://localhost:8080/",
          "height": 135,
          "referenced_widgets": [
            "2a33f1f8a801400592f1538d1360f202",
            "8644dbab5376477da002d9ca463bc508",
            "aedd8d288eec456b8f017432afe8d13c",
            "202c1edfc31f4e5b9938bbb385381b67",
            "4e56329822e04b538c6f7fbe79a2fb12",
            "f1b89a199f144f2aa71dc875c2f9dcd6",
            "624667dd5e074e169f9f0cf9d53a0cac",
            "cce5dbcef0fa457ba2edd5b265f75bc9",
            "10bcf17f9f55469d938a4eb71dc7cae6",
            "66745f8506534a1cb468609bb059c945",
            "344b618598b34b449ad400e21db24208",
            "c8c7a44307914f47b1da8da3edfa7362",
            "043d05bea9044969aabb8dece3a3bc26",
            "d79cef574ad7496494ec1a3691dc4bca",
            "40ad36fadd58430c904dfd55f4fdcb76",
            "c4e0781c6be4434e896ee311d0dc05e0"
          ]
        }
      },
      "source": [
        "import tqdm\n",
        "\n",
        "model = BertBaseUncased()\n",
        "model.to(device)\n",
        "getattr(tqdm, '_instances', {}).clear()"
      ],
      "execution_count": 0,
      "outputs": [
        {
          "output_type": "display_data",
          "data": {
            "application/vnd.jupyter.widget-view+json": {
              "model_id": "2a33f1f8a801400592f1538d1360f202",
              "version_minor": 0,
              "version_major": 2
            },
            "text/plain": [
              "HBox(children=(FloatProgress(value=0.0, description='Downloading', max=433.0, style=ProgressStyle(description_…"
            ]
          },
          "metadata": {
            "tags": []
          }
        },
        {
          "output_type": "stream",
          "text": [
            "\n"
          ],
          "name": "stdout"
        },
        {
          "output_type": "display_data",
          "data": {
            "application/vnd.jupyter.widget-view+json": {
              "model_id": "10bcf17f9f55469d938a4eb71dc7cae6",
              "version_minor": 0,
              "version_major": 2
            },
            "text/plain": [
              "HBox(children=(FloatProgress(value=0.0, description='Downloading', max=440473133.0, style=ProgressStyle(descri…"
            ]
          },
          "metadata": {
            "tags": []
          }
        },
        {
          "output_type": "stream",
          "text": [
            "\n",
            "time: 27.3 s\n"
          ],
          "name": "stdout"
        }
      ]
    },
    {
      "cell_type": "code",
      "metadata": {
        "id": "Ril3tzgtmMJa",
        "colab_type": "code",
        "outputId": "995babcc-f52b-45b6-81e6-ae6285c3525e",
        "colab": {
          "base_uri": "https://localhost:8080/",
          "height": 215
        }
      },
      "source": [
        "run(model, 2, train_dataloader, valid_dataloader)"
      ],
      "execution_count": 0,
      "outputs": [
        {
          "output_type": "stream",
          "text": [
            "\r  0%|          | 0/666 [00:00<?, ?it/s]"
          ],
          "name": "stderr"
        },
        {
          "output_type": "stream",
          "text": [
            "epoch : 1\n"
          ],
          "name": "stdout"
        },
        {
          "output_type": "stream",
          "text": [
            "100%|██████████| 666/666 [15:58<00:00,  1.44s/it]\n",
            "100%|██████████| 191/191 [00:50<00:00,  3.81it/s]\n",
            "  0%|          | 0/666 [00:00<?, ?it/s]"
          ],
          "name": "stderr"
        },
        {
          "output_type": "stream",
          "text": [
            "\n",
            "Accuracy Score = 0.8110236220472441\n",
            "epoch : 2\n"
          ],
          "name": "stdout"
        },
        {
          "output_type": "stream",
          "text": [
            "100%|██████████| 666/666 [15:58<00:00,  1.44s/it]\n",
            "100%|██████████| 191/191 [00:49<00:00,  3.83it/s]"
          ],
          "name": "stderr"
        },
        {
          "output_type": "stream",
          "text": [
            "\n",
            "Accuracy Score = 0.8254593175853019\n",
            "time: 33min 36s\n"
          ],
          "name": "stdout"
        },
        {
          "output_type": "stream",
          "text": [
            "\n"
          ],
          "name": "stderr"
        }
      ]
    },
    {
      "cell_type": "code",
      "metadata": {
        "id": "bOw-ia3YLALa",
        "colab_type": "code",
        "outputId": "5468d7b7-68ca-450c-cf7c-a91815f33413",
        "colab": {
          "base_uri": "https://localhost:8080/",
          "height": 53
        }
      },
      "source": [
        "y_pred, y_true = eval_fn(test_dataloader, model)\n",
        "y_pred = np.array(y_pred) >= 0.5\n",
        "accuracy = accuracy_score(y_true, y_pred)"
      ],
      "execution_count": 0,
      "outputs": [
        {
          "output_type": "stream",
          "text": [
            "100%|██████████| 191/191 [01:37<00:00,  1.95it/s]"
          ],
          "name": "stderr"
        },
        {
          "output_type": "stream",
          "text": [
            "time: 1min 37s\n"
          ],
          "name": "stdout"
        },
        {
          "output_type": "stream",
          "text": [
            "\n"
          ],
          "name": "stderr"
        }
      ]
    },
    {
      "cell_type": "code",
      "metadata": {
        "id": "MZhPc1SqH8nJ",
        "colab_type": "code",
        "outputId": "e5fd3f25-ecb3-495d-d2c5-29bc0fe373ae",
        "colab": {
          "base_uri": "https://localhost:8080/",
          "height": 591
        }
      },
      "source": [
        "from sklearn.metrics import classification_report\n",
        "from sklearn.metrics import confusion_matrix\n",
        "import matplotlib.pyplot as plt\n",
        "import seaborn as sns\n",
        "\n",
        "print('Classification Report :')\n",
        "print(classification_report(y_true, y_pred, output_dict=False, digits=3))\n",
        "print('Confusion Matrix :')\n",
        "print(confusion_matrix(y_true, y_pred))\n",
        "sns.heatmap(confusion_matrix(y_true, y_pred), annot=True)"
      ],
      "execution_count": 0,
      "outputs": [
        {
          "output_type": "stream",
          "text": [
            "/usr/local/lib/python3.6/dist-packages/statsmodels/tools/_testing.py:19: FutureWarning: pandas.util.testing is deprecated. Use the functions in the public API at pandas.testing instead.\n",
            "  import pandas.util.testing as tm\n"
          ],
          "name": "stderr"
        },
        {
          "output_type": "stream",
          "text": [
            "Classification Report :\n",
            "              precision    recall  f1-score   support\n",
            "\n",
            "         0.0      0.844     0.849     0.847       869\n",
            "         1.0      0.798     0.792     0.795       654\n",
            "\n",
            "    accuracy                          0.825      1523\n",
            "   macro avg      0.821     0.821     0.821      1523\n",
            "weighted avg      0.825     0.825     0.825      1523\n",
            "\n",
            "Confusion Matrix :\n",
            "[[738 131]\n",
            " [136 518]]\n"
          ],
          "name": "stdout"
        },
        {
          "output_type": "execute_result",
          "data": {
            "text/plain": [
              "<matplotlib.axes._subplots.AxesSubplot at 0x7fb3350407b8>"
            ]
          },
          "metadata": {
            "tags": []
          },
          "execution_count": 26
        },
        {
          "output_type": "display_data",
          "data": {
            "image/png": "[encoded data removed]",
            "text/plain": [
              "<Figure size 432x288 with 2 Axes>"
            ]
          },
          "metadata": {
            "tags": [],
            "needs_background": "light"
          }
        },
        {
          "output_type": "stream",
          "text": [
            "time: 364 ms\n"
          ],
          "name": "stdout"
        }
      ]
    }
  ]
}